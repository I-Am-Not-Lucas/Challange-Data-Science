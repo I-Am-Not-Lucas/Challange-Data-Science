{
 "cells": [
  {
   "cell_type": "markdown",
   "metadata": {},
   "source": [
    "# Pré-processamento"
   ]
  },
  {
   "cell_type": "markdown",
   "metadata": {},
   "source": [
    "## Importações iniciais"
   ]
  },
  {
   "cell_type": "code",
   "execution_count": 83,
   "metadata": {},
   "outputs": [],
   "source": [
    "import pandas as pd \n",
    "import numpy as np\n",
    "\n",
    "\n",
    "from sklearn.preprocessing import OrdinalEncoder \n",
    "from sklearn.model_selection import train_test_split\n",
    "\n",
    "from catboost import CatBoostClassifier\n",
    "\n",
    "from category_encoders import CatBoostEncoder\n"
   ]
  },
  {
   "cell_type": "code",
   "execution_count": 84,
   "metadata": {},
   "outputs": [],
   "source": [
    "colunas_dummies = ['Churn', \n",
    "                   'customer.Partner', \n",
    "                   'customer.Dependents',\n",
    "                   'customer.gender',\n",
    "                   'phone.PhoneService', \n",
    "                   'account.PaperlessBilling']\n",
    "\n",
    "colunas_multiclasses = ['internet.InternetService', \n",
    "                        'account.Contract',\n",
    "                        'account.PaymentMethod']\n",
    "\n",
    "colunas_dummies_mais_Um = ['phone.MultipleLines', \n",
    "                        'internet.OnlineSecurity', \n",
    "                        'internet.OnlineBackup',\n",
    "                        'internet.DeviceProtection', \n",
    "                        'internet.TechSupport', \n",
    "                        'internet.StreamingTV',\n",
    "                        'internet.StreamingMovies']"
   ]
  },
  {
   "cell_type": "code",
   "execution_count": 85,
   "metadata": {},
   "outputs": [],
   "source": [
    "data_bruto = pd.read_csv(\"JsonConvertido.csv\")"
   ]
  },
  {
   "cell_type": "code",
   "execution_count": 86,
   "metadata": {},
   "outputs": [
    {
     "data": {
      "text/html": [
       "<div>\n",
       "<style scoped>\n",
       "    .dataframe tbody tr th:only-of-type {\n",
       "        vertical-align: middle;\n",
       "    }\n",
       "\n",
       "    .dataframe tbody tr th {\n",
       "        vertical-align: top;\n",
       "    }\n",
       "\n",
       "    .dataframe thead th {\n",
       "        text-align: right;\n",
       "    }\n",
       "</style>\n",
       "<table border=\"1\" class=\"dataframe\">\n",
       "  <thead>\n",
       "    <tr style=\"text-align: right;\">\n",
       "      <th></th>\n",
       "      <th>customerID</th>\n",
       "      <th>Churn</th>\n",
       "      <th>customer.gender</th>\n",
       "      <th>customer.SeniorCitizen</th>\n",
       "      <th>customer.Partner</th>\n",
       "      <th>customer.Dependents</th>\n",
       "      <th>customer.tenure</th>\n",
       "      <th>phone.PhoneService</th>\n",
       "      <th>phone.MultipleLines</th>\n",
       "      <th>internet.InternetService</th>\n",
       "      <th>...</th>\n",
       "      <th>internet.OnlineBackup</th>\n",
       "      <th>internet.DeviceProtection</th>\n",
       "      <th>internet.TechSupport</th>\n",
       "      <th>internet.StreamingTV</th>\n",
       "      <th>internet.StreamingMovies</th>\n",
       "      <th>account.Contract</th>\n",
       "      <th>account.PaperlessBilling</th>\n",
       "      <th>account.PaymentMethod</th>\n",
       "      <th>account.Charges.Monthly</th>\n",
       "      <th>account.Charges.Total</th>\n",
       "    </tr>\n",
       "  </thead>\n",
       "  <tbody>\n",
       "    <tr>\n",
       "      <th>0</th>\n",
       "      <td>0002-ORFBO</td>\n",
       "      <td>No</td>\n",
       "      <td>Female</td>\n",
       "      <td>0</td>\n",
       "      <td>Yes</td>\n",
       "      <td>Yes</td>\n",
       "      <td>9</td>\n",
       "      <td>Yes</td>\n",
       "      <td>No</td>\n",
       "      <td>DSL</td>\n",
       "      <td>...</td>\n",
       "      <td>Yes</td>\n",
       "      <td>No</td>\n",
       "      <td>Yes</td>\n",
       "      <td>Yes</td>\n",
       "      <td>No</td>\n",
       "      <td>One year</td>\n",
       "      <td>Yes</td>\n",
       "      <td>Mailed check</td>\n",
       "      <td>65.6</td>\n",
       "      <td>593.3</td>\n",
       "    </tr>\n",
       "    <tr>\n",
       "      <th>1</th>\n",
       "      <td>0003-MKNFE</td>\n",
       "      <td>No</td>\n",
       "      <td>Male</td>\n",
       "      <td>0</td>\n",
       "      <td>No</td>\n",
       "      <td>No</td>\n",
       "      <td>9</td>\n",
       "      <td>Yes</td>\n",
       "      <td>Yes</td>\n",
       "      <td>DSL</td>\n",
       "      <td>...</td>\n",
       "      <td>No</td>\n",
       "      <td>No</td>\n",
       "      <td>No</td>\n",
       "      <td>No</td>\n",
       "      <td>Yes</td>\n",
       "      <td>Month-to-month</td>\n",
       "      <td>No</td>\n",
       "      <td>Mailed check</td>\n",
       "      <td>59.9</td>\n",
       "      <td>542.4</td>\n",
       "    </tr>\n",
       "    <tr>\n",
       "      <th>2</th>\n",
       "      <td>0004-TLHLJ</td>\n",
       "      <td>Yes</td>\n",
       "      <td>Male</td>\n",
       "      <td>0</td>\n",
       "      <td>No</td>\n",
       "      <td>No</td>\n",
       "      <td>4</td>\n",
       "      <td>Yes</td>\n",
       "      <td>No</td>\n",
       "      <td>Fiber optic</td>\n",
       "      <td>...</td>\n",
       "      <td>No</td>\n",
       "      <td>Yes</td>\n",
       "      <td>No</td>\n",
       "      <td>No</td>\n",
       "      <td>No</td>\n",
       "      <td>Month-to-month</td>\n",
       "      <td>Yes</td>\n",
       "      <td>Electronic check</td>\n",
       "      <td>73.9</td>\n",
       "      <td>280.85</td>\n",
       "    </tr>\n",
       "    <tr>\n",
       "      <th>3</th>\n",
       "      <td>0011-IGKFF</td>\n",
       "      <td>Yes</td>\n",
       "      <td>Male</td>\n",
       "      <td>1</td>\n",
       "      <td>Yes</td>\n",
       "      <td>No</td>\n",
       "      <td>13</td>\n",
       "      <td>Yes</td>\n",
       "      <td>No</td>\n",
       "      <td>Fiber optic</td>\n",
       "      <td>...</td>\n",
       "      <td>Yes</td>\n",
       "      <td>Yes</td>\n",
       "      <td>No</td>\n",
       "      <td>Yes</td>\n",
       "      <td>Yes</td>\n",
       "      <td>Month-to-month</td>\n",
       "      <td>Yes</td>\n",
       "      <td>Electronic check</td>\n",
       "      <td>98.0</td>\n",
       "      <td>1237.85</td>\n",
       "    </tr>\n",
       "    <tr>\n",
       "      <th>4</th>\n",
       "      <td>0013-EXCHZ</td>\n",
       "      <td>Yes</td>\n",
       "      <td>Female</td>\n",
       "      <td>1</td>\n",
       "      <td>Yes</td>\n",
       "      <td>No</td>\n",
       "      <td>3</td>\n",
       "      <td>Yes</td>\n",
       "      <td>No</td>\n",
       "      <td>Fiber optic</td>\n",
       "      <td>...</td>\n",
       "      <td>No</td>\n",
       "      <td>No</td>\n",
       "      <td>Yes</td>\n",
       "      <td>Yes</td>\n",
       "      <td>No</td>\n",
       "      <td>Month-to-month</td>\n",
       "      <td>Yes</td>\n",
       "      <td>Mailed check</td>\n",
       "      <td>83.9</td>\n",
       "      <td>267.4</td>\n",
       "    </tr>\n",
       "  </tbody>\n",
       "</table>\n",
       "<p>5 rows × 21 columns</p>\n",
       "</div>"
      ],
      "text/plain": [
       "   customerID Churn customer.gender  customer.SeniorCitizen customer.Partner  \\\n",
       "0  0002-ORFBO    No          Female                       0              Yes   \n",
       "1  0003-MKNFE    No            Male                       0               No   \n",
       "2  0004-TLHLJ   Yes            Male                       0               No   \n",
       "3  0011-IGKFF   Yes            Male                       1              Yes   \n",
       "4  0013-EXCHZ   Yes          Female                       1              Yes   \n",
       "\n",
       "  customer.Dependents  customer.tenure phone.PhoneService phone.MultipleLines  \\\n",
       "0                 Yes                9                Yes                  No   \n",
       "1                  No                9                Yes                 Yes   \n",
       "2                  No                4                Yes                  No   \n",
       "3                  No               13                Yes                  No   \n",
       "4                  No                3                Yes                  No   \n",
       "\n",
       "  internet.InternetService  ... internet.OnlineBackup  \\\n",
       "0                      DSL  ...                   Yes   \n",
       "1                      DSL  ...                    No   \n",
       "2              Fiber optic  ...                    No   \n",
       "3              Fiber optic  ...                   Yes   \n",
       "4              Fiber optic  ...                    No   \n",
       "\n",
       "  internet.DeviceProtection internet.TechSupport internet.StreamingTV  \\\n",
       "0                        No                  Yes                  Yes   \n",
       "1                        No                   No                   No   \n",
       "2                       Yes                   No                   No   \n",
       "3                       Yes                   No                  Yes   \n",
       "4                        No                  Yes                  Yes   \n",
       "\n",
       "  internet.StreamingMovies account.Contract account.PaperlessBilling  \\\n",
       "0                       No         One year                      Yes   \n",
       "1                      Yes   Month-to-month                       No   \n",
       "2                       No   Month-to-month                      Yes   \n",
       "3                      Yes   Month-to-month                      Yes   \n",
       "4                       No   Month-to-month                      Yes   \n",
       "\n",
       "  account.PaymentMethod account.Charges.Monthly  account.Charges.Total  \n",
       "0          Mailed check                    65.6                  593.3  \n",
       "1          Mailed check                    59.9                  542.4  \n",
       "2      Electronic check                    73.9                 280.85  \n",
       "3      Electronic check                    98.0                1237.85  \n",
       "4          Mailed check                    83.9                  267.4  \n",
       "\n",
       "[5 rows x 21 columns]"
      ]
     },
     "execution_count": 86,
     "metadata": {},
     "output_type": "execute_result"
    }
   ],
   "source": [
    "data_bruto.head()"
   ]
  },
  {
   "cell_type": "markdown",
   "metadata": {},
   "source": [
    "### Transformação das variáveis dummies "
   ]
  },
  {
   "cell_type": "markdown",
   "metadata": {},
   "source": [
    "o padrão costuma ser\n",
    "- (yes, no) -> (1,0)\n",
    "- (male, female) -> (1,0)"
   ]
  },
  {
   "cell_type": "code",
   "execution_count": 87,
   "metadata": {},
   "outputs": [
    {
     "data": {
      "text/html": [
       "<div>\n",
       "<style scoped>\n",
       "    .dataframe tbody tr th:only-of-type {\n",
       "        vertical-align: middle;\n",
       "    }\n",
       "\n",
       "    .dataframe tbody tr th {\n",
       "        vertical-align: top;\n",
       "    }\n",
       "\n",
       "    .dataframe thead th {\n",
       "        text-align: right;\n",
       "    }\n",
       "</style>\n",
       "<table border=\"1\" class=\"dataframe\">\n",
       "  <thead>\n",
       "    <tr style=\"text-align: right;\">\n",
       "      <th></th>\n",
       "      <th>Churn</th>\n",
       "      <th>customer.Partner</th>\n",
       "      <th>customer.Dependents</th>\n",
       "      <th>customer.gender</th>\n",
       "      <th>phone.PhoneService</th>\n",
       "      <th>account.PaperlessBilling</th>\n",
       "    </tr>\n",
       "  </thead>\n",
       "  <tbody>\n",
       "    <tr>\n",
       "      <th>0</th>\n",
       "      <td>No</td>\n",
       "      <td>Yes</td>\n",
       "      <td>Yes</td>\n",
       "      <td>Female</td>\n",
       "      <td>Yes</td>\n",
       "      <td>Yes</td>\n",
       "    </tr>\n",
       "    <tr>\n",
       "      <th>1</th>\n",
       "      <td>No</td>\n",
       "      <td>No</td>\n",
       "      <td>No</td>\n",
       "      <td>Male</td>\n",
       "      <td>Yes</td>\n",
       "      <td>No</td>\n",
       "    </tr>\n",
       "    <tr>\n",
       "      <th>2</th>\n",
       "      <td>Yes</td>\n",
       "      <td>No</td>\n",
       "      <td>No</td>\n",
       "      <td>Male</td>\n",
       "      <td>Yes</td>\n",
       "      <td>Yes</td>\n",
       "    </tr>\n",
       "    <tr>\n",
       "      <th>3</th>\n",
       "      <td>Yes</td>\n",
       "      <td>Yes</td>\n",
       "      <td>No</td>\n",
       "      <td>Male</td>\n",
       "      <td>Yes</td>\n",
       "      <td>Yes</td>\n",
       "    </tr>\n",
       "    <tr>\n",
       "      <th>4</th>\n",
       "      <td>Yes</td>\n",
       "      <td>Yes</td>\n",
       "      <td>No</td>\n",
       "      <td>Female</td>\n",
       "      <td>Yes</td>\n",
       "      <td>Yes</td>\n",
       "    </tr>\n",
       "  </tbody>\n",
       "</table>\n",
       "</div>"
      ],
      "text/plain": [
       "  Churn customer.Partner customer.Dependents customer.gender  \\\n",
       "0    No              Yes                 Yes          Female   \n",
       "1    No               No                  No            Male   \n",
       "2   Yes               No                  No            Male   \n",
       "3   Yes              Yes                  No            Male   \n",
       "4   Yes              Yes                  No          Female   \n",
       "\n",
       "  phone.PhoneService account.PaperlessBilling  \n",
       "0                Yes                      Yes  \n",
       "1                Yes                       No  \n",
       "2                Yes                      Yes  \n",
       "3                Yes                      Yes  \n",
       "4                Yes                      Yes  "
      ]
     },
     "execution_count": 87,
     "metadata": {},
     "output_type": "execute_result"
    }
   ],
   "source": [
    "data_bruto[colunas_dummies].head()"
   ]
  },
  {
   "cell_type": "code",
   "execution_count": 88,
   "metadata": {},
   "outputs": [],
   "source": [
    "ordinal_encoder = OrdinalEncoder()"
   ]
  },
  {
   "cell_type": "code",
   "execution_count": 89,
   "metadata": {},
   "outputs": [],
   "source": [
    "data_bruto[colunas_dummies] = ordinal_encoder.fit_transform(data_bruto[colunas_dummies])"
   ]
  },
  {
   "cell_type": "code",
   "execution_count": 90,
   "metadata": {},
   "outputs": [
    {
     "data": {
      "text/html": [
       "<div>\n",
       "<style scoped>\n",
       "    .dataframe tbody tr th:only-of-type {\n",
       "        vertical-align: middle;\n",
       "    }\n",
       "\n",
       "    .dataframe tbody tr th {\n",
       "        vertical-align: top;\n",
       "    }\n",
       "\n",
       "    .dataframe thead th {\n",
       "        text-align: right;\n",
       "    }\n",
       "</style>\n",
       "<table border=\"1\" class=\"dataframe\">\n",
       "  <thead>\n",
       "    <tr style=\"text-align: right;\">\n",
       "      <th></th>\n",
       "      <th>Churn</th>\n",
       "      <th>customer.Partner</th>\n",
       "      <th>customer.Dependents</th>\n",
       "      <th>customer.gender</th>\n",
       "      <th>phone.PhoneService</th>\n",
       "      <th>account.PaperlessBilling</th>\n",
       "    </tr>\n",
       "  </thead>\n",
       "  <tbody>\n",
       "    <tr>\n",
       "      <th>0</th>\n",
       "      <td>0.0</td>\n",
       "      <td>1.0</td>\n",
       "      <td>1.0</td>\n",
       "      <td>0.0</td>\n",
       "      <td>1.0</td>\n",
       "      <td>1.0</td>\n",
       "    </tr>\n",
       "    <tr>\n",
       "      <th>1</th>\n",
       "      <td>0.0</td>\n",
       "      <td>0.0</td>\n",
       "      <td>0.0</td>\n",
       "      <td>1.0</td>\n",
       "      <td>1.0</td>\n",
       "      <td>0.0</td>\n",
       "    </tr>\n",
       "    <tr>\n",
       "      <th>2</th>\n",
       "      <td>1.0</td>\n",
       "      <td>0.0</td>\n",
       "      <td>0.0</td>\n",
       "      <td>1.0</td>\n",
       "      <td>1.0</td>\n",
       "      <td>1.0</td>\n",
       "    </tr>\n",
       "    <tr>\n",
       "      <th>3</th>\n",
       "      <td>1.0</td>\n",
       "      <td>1.0</td>\n",
       "      <td>0.0</td>\n",
       "      <td>1.0</td>\n",
       "      <td>1.0</td>\n",
       "      <td>1.0</td>\n",
       "    </tr>\n",
       "    <tr>\n",
       "      <th>4</th>\n",
       "      <td>1.0</td>\n",
       "      <td>1.0</td>\n",
       "      <td>0.0</td>\n",
       "      <td>0.0</td>\n",
       "      <td>1.0</td>\n",
       "      <td>1.0</td>\n",
       "    </tr>\n",
       "  </tbody>\n",
       "</table>\n",
       "</div>"
      ],
      "text/plain": [
       "   Churn  customer.Partner  customer.Dependents  customer.gender  \\\n",
       "0    0.0               1.0                  1.0              0.0   \n",
       "1    0.0               0.0                  0.0              1.0   \n",
       "2    1.0               0.0                  0.0              1.0   \n",
       "3    1.0               1.0                  0.0              1.0   \n",
       "4    1.0               1.0                  0.0              0.0   \n",
       "\n",
       "   phone.PhoneService  account.PaperlessBilling  \n",
       "0                 1.0                       1.0  \n",
       "1                 1.0                       0.0  \n",
       "2                 1.0                       1.0  \n",
       "3                 1.0                       1.0  \n",
       "4                 1.0                       1.0  "
      ]
     },
     "execution_count": 90,
     "metadata": {},
     "output_type": "execute_result"
    }
   ],
   "source": [
    "data_bruto[colunas_dummies].head()"
   ]
  },
  {
   "cell_type": "markdown",
   "metadata": {},
   "source": [
    "### Separação em treino e teste "
   ]
  },
  {
   "cell_type": "markdown",
   "metadata": {},
   "source": [
    "Isso é feio para permitir que o modelo treine, nos dados de treino e que possamos ver sua eficiência no teste e também evitar vazamento de dados"
   ]
  },
  {
   "cell_type": "code",
   "execution_count": 91,
   "metadata": {},
   "outputs": [
    {
     "data": {
      "text/plain": [
       "389    0562-HKHML\n",
       "340    0489-WMEMG\n",
       "Name: customerID, dtype: object"
      ]
     },
     "execution_count": 91,
     "metadata": {},
     "output_type": "execute_result"
    }
   ],
   "source": [
    "id = data_bruto[\"customerID\"]\n",
    "id.sample(2)"
   ]
  },
  {
   "cell_type": "code",
   "execution_count": 92,
   "metadata": {},
   "outputs": [],
   "source": [
    "X = data_bruto.drop([\"Churn\", \"customerID\"], axis=1)\n",
    "y = data_bruto[\"Churn\"]"
   ]
  },
  {
   "cell_type": "code",
   "execution_count": 93,
   "metadata": {},
   "outputs": [
    {
     "data": {
      "text/plain": [
       "0    0.0\n",
       "1    0.0\n",
       "2    1.0\n",
       "3    1.0\n",
       "4    1.0\n",
       "Name: Churn, dtype: float64"
      ]
     },
     "execution_count": 93,
     "metadata": {},
     "output_type": "execute_result"
    }
   ],
   "source": [
    "y.head()"
   ]
  },
  {
   "cell_type": "code",
   "execution_count": 94,
   "metadata": {},
   "outputs": [],
   "source": [
    "X_train, X_test, y_train, y_test = train_test_split(X, y, test_size=0.2, random_state=42)"
   ]
  },
  {
   "cell_type": "markdown",
   "metadata": {},
   "source": [
    "### Transformação das colunas com Yes, no e mais um fator"
   ]
  },
  {
   "cell_type": "code",
   "execution_count": 95,
   "metadata": {},
   "outputs": [
    {
     "name": "stdout",
     "output_type": "stream",
     "text": [
      "phone.MultipleLines : ['No' 'Yes' 'No phone service']\n",
      "internet.OnlineSecurity : ['No' 'Yes' 'No internet service']\n",
      "internet.OnlineBackup : ['Yes' 'No' 'No internet service']\n",
      "internet.DeviceProtection : ['No' 'Yes' 'No internet service']\n",
      "internet.TechSupport : ['Yes' 'No' 'No internet service']\n",
      "internet.StreamingTV : ['Yes' 'No' 'No internet service']\n",
      "internet.StreamingMovies : ['No' 'Yes' 'No internet service']\n"
     ]
    }
   ],
   "source": [
    "for col in data_bruto[colunas_dummies_mais_Um].columns:\n",
    "    print(f'{col} : {data_bruto[col].unique()}')"
   ]
  },
  {
   "cell_type": "code",
   "execution_count": 96,
   "metadata": {},
   "outputs": [
    {
     "data": {
      "text/html": [
       "<div>\n",
       "<style scoped>\n",
       "    .dataframe tbody tr th:only-of-type {\n",
       "        vertical-align: middle;\n",
       "    }\n",
       "\n",
       "    .dataframe tbody tr th {\n",
       "        vertical-align: top;\n",
       "    }\n",
       "\n",
       "    .dataframe thead th {\n",
       "        text-align: right;\n",
       "    }\n",
       "</style>\n",
       "<table border=\"1\" class=\"dataframe\">\n",
       "  <thead>\n",
       "    <tr style=\"text-align: right;\">\n",
       "      <th></th>\n",
       "      <th>phone.MultipleLines</th>\n",
       "      <th>internet.OnlineSecurity</th>\n",
       "      <th>internet.OnlineBackup</th>\n",
       "      <th>internet.DeviceProtection</th>\n",
       "      <th>internet.TechSupport</th>\n",
       "      <th>internet.StreamingTV</th>\n",
       "      <th>internet.StreamingMovies</th>\n",
       "    </tr>\n",
       "  </thead>\n",
       "  <tbody>\n",
       "    <tr>\n",
       "      <th>4292</th>\n",
       "      <td>No</td>\n",
       "      <td>No</td>\n",
       "      <td>Yes</td>\n",
       "      <td>No</td>\n",
       "      <td>No</td>\n",
       "      <td>Yes</td>\n",
       "      <td>Yes</td>\n",
       "    </tr>\n",
       "    <tr>\n",
       "      <th>4794</th>\n",
       "      <td>No</td>\n",
       "      <td>No</td>\n",
       "      <td>No</td>\n",
       "      <td>No</td>\n",
       "      <td>Yes</td>\n",
       "      <td>Yes</td>\n",
       "      <td>Yes</td>\n",
       "    </tr>\n",
       "    <tr>\n",
       "      <th>3172</th>\n",
       "      <td>No phone service</td>\n",
       "      <td>No</td>\n",
       "      <td>Yes</td>\n",
       "      <td>No</td>\n",
       "      <td>Yes</td>\n",
       "      <td>No</td>\n",
       "      <td>No</td>\n",
       "    </tr>\n",
       "    <tr>\n",
       "      <th>6358</th>\n",
       "      <td>No phone service</td>\n",
       "      <td>Yes</td>\n",
       "      <td>Yes</td>\n",
       "      <td>Yes</td>\n",
       "      <td>Yes</td>\n",
       "      <td>No</td>\n",
       "      <td>No</td>\n",
       "    </tr>\n",
       "    <tr>\n",
       "      <th>1956</th>\n",
       "      <td>No</td>\n",
       "      <td>No</td>\n",
       "      <td>No</td>\n",
       "      <td>No</td>\n",
       "      <td>No</td>\n",
       "      <td>Yes</td>\n",
       "      <td>No</td>\n",
       "    </tr>\n",
       "  </tbody>\n",
       "</table>\n",
       "</div>"
      ],
      "text/plain": [
       "     phone.MultipleLines internet.OnlineSecurity internet.OnlineBackup  \\\n",
       "4292                  No                      No                   Yes   \n",
       "4794                  No                      No                    No   \n",
       "3172    No phone service                      No                   Yes   \n",
       "6358    No phone service                     Yes                   Yes   \n",
       "1956                  No                      No                    No   \n",
       "\n",
       "     internet.DeviceProtection internet.TechSupport internet.StreamingTV  \\\n",
       "4292                        No                   No                  Yes   \n",
       "4794                        No                  Yes                  Yes   \n",
       "3172                        No                  Yes                   No   \n",
       "6358                       Yes                  Yes                   No   \n",
       "1956                        No                   No                  Yes   \n",
       "\n",
       "     internet.StreamingMovies  \n",
       "4292                      Yes  \n",
       "4794                      Yes  \n",
       "3172                       No  \n",
       "6358                       No  \n",
       "1956                       No  "
      ]
     },
     "execution_count": 96,
     "metadata": {},
     "output_type": "execute_result"
    }
   ],
   "source": [
    "X_train[colunas_dummies_mais_Um].head()"
   ]
  },
  {
   "cell_type": "code",
   "execution_count": 112,
   "metadata": {},
   "outputs": [],
   "source": [
    "for coluna in colunas_dummies_mais_Um:\n",
    "    X_train[coluna] = X_train[coluna].apply(lambda x: 1 if x == \"Yes\" or x==1 else 0)\n",
    "    X_test[coluna] = X_test[coluna].apply(lambda x: 1 if x == \"Yes\" or x==1 else 0)\n"
   ]
  },
  {
   "cell_type": "code",
   "execution_count": 113,
   "metadata": {},
   "outputs": [
    {
     "data": {
      "text/html": [
       "<div>\n",
       "<style scoped>\n",
       "    .dataframe tbody tr th:only-of-type {\n",
       "        vertical-align: middle;\n",
       "    }\n",
       "\n",
       "    .dataframe tbody tr th {\n",
       "        vertical-align: top;\n",
       "    }\n",
       "\n",
       "    .dataframe thead th {\n",
       "        text-align: right;\n",
       "    }\n",
       "</style>\n",
       "<table border=\"1\" class=\"dataframe\">\n",
       "  <thead>\n",
       "    <tr style=\"text-align: right;\">\n",
       "      <th></th>\n",
       "      <th>phone.MultipleLines</th>\n",
       "      <th>internet.OnlineSecurity</th>\n",
       "      <th>internet.OnlineBackup</th>\n",
       "      <th>internet.DeviceProtection</th>\n",
       "      <th>internet.TechSupport</th>\n",
       "      <th>internet.StreamingTV</th>\n",
       "      <th>internet.StreamingMovies</th>\n",
       "    </tr>\n",
       "  </thead>\n",
       "  <tbody>\n",
       "    <tr>\n",
       "      <th>4292</th>\n",
       "      <td>0</td>\n",
       "      <td>0</td>\n",
       "      <td>1</td>\n",
       "      <td>0</td>\n",
       "      <td>0</td>\n",
       "      <td>1</td>\n",
       "      <td>1</td>\n",
       "    </tr>\n",
       "    <tr>\n",
       "      <th>4794</th>\n",
       "      <td>0</td>\n",
       "      <td>0</td>\n",
       "      <td>0</td>\n",
       "      <td>0</td>\n",
       "      <td>1</td>\n",
       "      <td>1</td>\n",
       "      <td>1</td>\n",
       "    </tr>\n",
       "    <tr>\n",
       "      <th>3172</th>\n",
       "      <td>0</td>\n",
       "      <td>0</td>\n",
       "      <td>1</td>\n",
       "      <td>0</td>\n",
       "      <td>1</td>\n",
       "      <td>0</td>\n",
       "      <td>0</td>\n",
       "    </tr>\n",
       "    <tr>\n",
       "      <th>6358</th>\n",
       "      <td>0</td>\n",
       "      <td>1</td>\n",
       "      <td>1</td>\n",
       "      <td>1</td>\n",
       "      <td>1</td>\n",
       "      <td>0</td>\n",
       "      <td>0</td>\n",
       "    </tr>\n",
       "    <tr>\n",
       "      <th>1956</th>\n",
       "      <td>0</td>\n",
       "      <td>0</td>\n",
       "      <td>0</td>\n",
       "      <td>0</td>\n",
       "      <td>0</td>\n",
       "      <td>1</td>\n",
       "      <td>0</td>\n",
       "    </tr>\n",
       "  </tbody>\n",
       "</table>\n",
       "</div>"
      ],
      "text/plain": [
       "      phone.MultipleLines  internet.OnlineSecurity  internet.OnlineBackup  \\\n",
       "4292                    0                        0                      1   \n",
       "4794                    0                        0                      0   \n",
       "3172                    0                        0                      1   \n",
       "6358                    0                        1                      1   \n",
       "1956                    0                        0                      0   \n",
       "\n",
       "      internet.DeviceProtection  internet.TechSupport  internet.StreamingTV  \\\n",
       "4292                          0                     0                     1   \n",
       "4794                          0                     1                     1   \n",
       "3172                          0                     1                     0   \n",
       "6358                          1                     1                     0   \n",
       "1956                          0                     0                     1   \n",
       "\n",
       "      internet.StreamingMovies  \n",
       "4292                         1  \n",
       "4794                         1  \n",
       "3172                         0  \n",
       "6358                         0  \n",
       "1956                         0  "
      ]
     },
     "execution_count": 113,
     "metadata": {},
     "output_type": "execute_result"
    }
   ],
   "source": [
    "X_train[colunas_dummies_mais_Um].head()"
   ]
  },
  {
   "cell_type": "markdown",
   "metadata": {},
   "source": [
    "### Tratando as colunas com múltiplos valores"
   ]
  },
  {
   "cell_type": "code",
   "execution_count": 115,
   "metadata": {},
   "outputs": [],
   "source": [
    "colunas_multiclasses = ['internet.InternetService', \n",
    "                        'account.Contract',\n",
    "                        'account.PaymentMethod']"
   ]
  },
  {
   "cell_type": "code",
   "execution_count": 119,
   "metadata": {},
   "outputs": [
    {
     "name": "stdout",
     "output_type": "stream",
     "text": [
      "internet.InternetService : ['DSL' 'Fiber optic' 'No']\n",
      "\n",
      "account.Contract : ['One year' 'Month-to-month' 'Two year']\n",
      "\n",
      "account.PaymentMethod : ['Mailed check' 'Electronic check' 'Credit card (automatic)'\n",
      " 'Bank transfer (automatic)']\n",
      "\n"
     ]
    }
   ],
   "source": [
    "for col in data_bruto[colunas_multiclasses].columns:\n",
    "    print(f'{col} : {data_bruto[col].unique()}')\n",
    "    print()"
   ]
  },
  {
   "cell_type": "code",
   "execution_count": 120,
   "metadata": {},
   "outputs": [],
   "source": [
    "catboost_encoder = CatBoostEncoder()"
   ]
  },
  {
   "cell_type": "markdown",
   "metadata": {},
   "source": [
    "Primeiramente eu irei lidar con o \"No\", do \"internet.InternetService\" e depois utilizarei o algoritmo catboost encoder para poder lidar com as variáveis categóricas nominais"
   ]
  },
  {
   "cell_type": "code",
   "execution_count": 129,
   "metadata": {},
   "outputs": [
    {
     "data": {
      "text/plain": [
       "3772             No\n",
       "5191            DSL\n",
       "5226    Fiber optic\n",
       "5390            DSL\n",
       "860     Fiber optic\n",
       "Name: internet.InternetService, dtype: object"
      ]
     },
     "execution_count": 129,
     "metadata": {},
     "output_type": "execute_result"
    }
   ],
   "source": [
    "X_train[\"internet.InternetService\"].tail()"
   ]
  },
  {
   "cell_type": "code",
   "execution_count": 130,
   "metadata": {},
   "outputs": [],
   "source": [
    "X_train[\"internet.InternetService\"] = X_train[\"internet.InternetService\"].apply(lambda x: 0 if x==\"No\" else x)\n",
    "X_test[\"internet.InternetService\"] = X_test[\"internet.InternetService\"].apply(lambda x: 0 if x==\"No\" else x)"
   ]
  },
  {
   "cell_type": "code",
   "execution_count": 134,
   "metadata": {},
   "outputs": [],
   "source": [
    "catboost_encoder.fit(X_train[colunas_multiclasses], y_train)\n",
    "\n",
    "X_train[colunas_multiclasses] = catboost_encoder.transform(X_train[colunas_multiclasses])\n",
    "X_test[colunas_multiclasses] = catboost_encoder.transform(X_test[colunas_multiclasses])"
   ]
  },
  {
   "cell_type": "code",
   "execution_count": 166,
   "metadata": {},
   "outputs": [
    {
     "data": {
      "text/html": [
       "<div>\n",
       "<style scoped>\n",
       "    .dataframe tbody tr th:only-of-type {\n",
       "        vertical-align: middle;\n",
       "    }\n",
       "\n",
       "    .dataframe tbody tr th {\n",
       "        vertical-align: top;\n",
       "    }\n",
       "\n",
       "    .dataframe thead th {\n",
       "        text-align: right;\n",
       "    }\n",
       "</style>\n",
       "<table border=\"1\" class=\"dataframe\">\n",
       "  <thead>\n",
       "    <tr style=\"text-align: right;\">\n",
       "      <th></th>\n",
       "      <th>internet.InternetService</th>\n",
       "      <th>account.Contract</th>\n",
       "      <th>account.PaymentMethod</th>\n",
       "    </tr>\n",
       "  </thead>\n",
       "  <tbody>\n",
       "    <tr>\n",
       "      <th>5131</th>\n",
       "      <td>0.192939</td>\n",
       "      <td>0.425269</td>\n",
       "      <td>0.168099</td>\n",
       "    </tr>\n",
       "    <tr>\n",
       "      <th>4174</th>\n",
       "      <td>0.414485</td>\n",
       "      <td>0.113048</td>\n",
       "      <td>0.148522</td>\n",
       "    </tr>\n",
       "    <tr>\n",
       "      <th>5413</th>\n",
       "      <td>0.414485</td>\n",
       "      <td>0.425269</td>\n",
       "      <td>0.446624</td>\n",
       "    </tr>\n",
       "    <tr>\n",
       "      <th>5326</th>\n",
       "      <td>0.192939</td>\n",
       "      <td>0.425269</td>\n",
       "      <td>0.446624</td>\n",
       "    </tr>\n",
       "    <tr>\n",
       "      <th>1960</th>\n",
       "      <td>0.414485</td>\n",
       "      <td>0.425269</td>\n",
       "      <td>0.446624</td>\n",
       "    </tr>\n",
       "  </tbody>\n",
       "</table>\n",
       "</div>"
      ],
      "text/plain": [
       "      internet.InternetService  account.Contract  account.PaymentMethod\n",
       "5131                  0.192939          0.425269               0.168099\n",
       "4174                  0.414485          0.113048               0.148522\n",
       "5413                  0.414485          0.425269               0.446624\n",
       "5326                  0.192939          0.425269               0.446624\n",
       "1960                  0.414485          0.425269               0.446624"
      ]
     },
     "execution_count": 166,
     "metadata": {},
     "output_type": "execute_result"
    }
   ],
   "source": [
    "X_train[colunas_multiclasses].sample(5)"
   ]
  }
 ],
 "metadata": {
  "kernelspec": {
   "display_name": "DSvenv",
   "language": "python",
   "name": "dsvenv"
  },
  "language_info": {
   "codemirror_mode": {
    "name": "ipython",
    "version": 3
   },
   "file_extension": ".py",
   "mimetype": "text/x-python",
   "name": "python",
   "nbconvert_exporter": "python",
   "pygments_lexer": "ipython3",
   "version": "3.11.2"
  },
  "orig_nbformat": 4
 },
 "nbformat": 4,
 "nbformat_minor": 2
}
