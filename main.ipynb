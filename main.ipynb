{
 "cells": [
  {
   "cell_type": "markdown",
   "metadata": {},
   "source": [
    "## 0.1 - Importações iniciais de bibliotecas"
   ]
  },
  {
   "cell_type": "code",
   "execution_count": 69,
   "metadata": {},
   "outputs": [],
   "source": [
    "import pandas as pd \n",
    "import numpy as np\n",
    "import sklearn\n",
    "\n",
    "import requests"
   ]
  },
  {
   "cell_type": "markdown",
   "metadata": {},
   "source": [
    "## 0.2 - Acesso a API e tratamento do json"
   ]
  },
  {
   "cell_type": "code",
   "execution_count": 70,
   "metadata": {},
   "outputs": [],
   "source": [
    "a = False\n",
    "\n",
    "if a:\n",
    "    url = r'https://challenge-data-science-3ed.s3.amazonaws.com/Telco-Customer-Churn.json'\n",
    "\n",
    "    requisicao = requests.get(url)\n",
    "    requisicao = requisicao.json()\n",
    "\n",
    "    df = pd.json_normalize(requisicao)\n",
    "\n",
    "    df.to_csv('JsonConvertido.csv', index=False)"
   ]
  },
  {
   "cell_type": "code",
   "execution_count": 71,
   "metadata": {},
   "outputs": [],
   "source": [
    "df = pd.read_csv('JsonConvertido.csv')"
   ]
  },
  {
   "cell_type": "code",
   "execution_count": 72,
   "metadata": {},
   "outputs": [
    {
     "data": {
      "text/html": [
       "<div>\n",
       "<style scoped>\n",
       "    .dataframe tbody tr th:only-of-type {\n",
       "        vertical-align: middle;\n",
       "    }\n",
       "\n",
       "    .dataframe tbody tr th {\n",
       "        vertical-align: top;\n",
       "    }\n",
       "\n",
       "    .dataframe thead th {\n",
       "        text-align: right;\n",
       "    }\n",
       "</style>\n",
       "<table border=\"1\" class=\"dataframe\">\n",
       "  <thead>\n",
       "    <tr style=\"text-align: right;\">\n",
       "      <th></th>\n",
       "      <th>customerID</th>\n",
       "      <th>Churn</th>\n",
       "      <th>customer.gender</th>\n",
       "      <th>customer.SeniorCitizen</th>\n",
       "      <th>customer.Partner</th>\n",
       "      <th>customer.Dependents</th>\n",
       "      <th>customer.tenure</th>\n",
       "      <th>phone.PhoneService</th>\n",
       "      <th>phone.MultipleLines</th>\n",
       "      <th>internet.InternetService</th>\n",
       "      <th>...</th>\n",
       "      <th>internet.OnlineBackup</th>\n",
       "      <th>internet.DeviceProtection</th>\n",
       "      <th>internet.TechSupport</th>\n",
       "      <th>internet.StreamingTV</th>\n",
       "      <th>internet.StreamingMovies</th>\n",
       "      <th>account.Contract</th>\n",
       "      <th>account.PaperlessBilling</th>\n",
       "      <th>account.PaymentMethod</th>\n",
       "      <th>account.Charges.Monthly</th>\n",
       "      <th>account.Charges.Total</th>\n",
       "    </tr>\n",
       "  </thead>\n",
       "  <tbody>\n",
       "    <tr>\n",
       "      <th>0</th>\n",
       "      <td>0002-ORFBO</td>\n",
       "      <td>No</td>\n",
       "      <td>Female</td>\n",
       "      <td>0</td>\n",
       "      <td>Yes</td>\n",
       "      <td>Yes</td>\n",
       "      <td>9</td>\n",
       "      <td>Yes</td>\n",
       "      <td>No</td>\n",
       "      <td>DSL</td>\n",
       "      <td>...</td>\n",
       "      <td>Yes</td>\n",
       "      <td>No</td>\n",
       "      <td>Yes</td>\n",
       "      <td>Yes</td>\n",
       "      <td>No</td>\n",
       "      <td>One year</td>\n",
       "      <td>Yes</td>\n",
       "      <td>Mailed check</td>\n",
       "      <td>65.6</td>\n",
       "      <td>593.3</td>\n",
       "    </tr>\n",
       "    <tr>\n",
       "      <th>1</th>\n",
       "      <td>0003-MKNFE</td>\n",
       "      <td>No</td>\n",
       "      <td>Male</td>\n",
       "      <td>0</td>\n",
       "      <td>No</td>\n",
       "      <td>No</td>\n",
       "      <td>9</td>\n",
       "      <td>Yes</td>\n",
       "      <td>Yes</td>\n",
       "      <td>DSL</td>\n",
       "      <td>...</td>\n",
       "      <td>No</td>\n",
       "      <td>No</td>\n",
       "      <td>No</td>\n",
       "      <td>No</td>\n",
       "      <td>Yes</td>\n",
       "      <td>Month-to-month</td>\n",
       "      <td>No</td>\n",
       "      <td>Mailed check</td>\n",
       "      <td>59.9</td>\n",
       "      <td>542.4</td>\n",
       "    </tr>\n",
       "    <tr>\n",
       "      <th>2</th>\n",
       "      <td>0004-TLHLJ</td>\n",
       "      <td>Yes</td>\n",
       "      <td>Male</td>\n",
       "      <td>0</td>\n",
       "      <td>No</td>\n",
       "      <td>No</td>\n",
       "      <td>4</td>\n",
       "      <td>Yes</td>\n",
       "      <td>No</td>\n",
       "      <td>Fiber optic</td>\n",
       "      <td>...</td>\n",
       "      <td>No</td>\n",
       "      <td>Yes</td>\n",
       "      <td>No</td>\n",
       "      <td>No</td>\n",
       "      <td>No</td>\n",
       "      <td>Month-to-month</td>\n",
       "      <td>Yes</td>\n",
       "      <td>Electronic check</td>\n",
       "      <td>73.9</td>\n",
       "      <td>280.85</td>\n",
       "    </tr>\n",
       "    <tr>\n",
       "      <th>3</th>\n",
       "      <td>0011-IGKFF</td>\n",
       "      <td>Yes</td>\n",
       "      <td>Male</td>\n",
       "      <td>1</td>\n",
       "      <td>Yes</td>\n",
       "      <td>No</td>\n",
       "      <td>13</td>\n",
       "      <td>Yes</td>\n",
       "      <td>No</td>\n",
       "      <td>Fiber optic</td>\n",
       "      <td>...</td>\n",
       "      <td>Yes</td>\n",
       "      <td>Yes</td>\n",
       "      <td>No</td>\n",
       "      <td>Yes</td>\n",
       "      <td>Yes</td>\n",
       "      <td>Month-to-month</td>\n",
       "      <td>Yes</td>\n",
       "      <td>Electronic check</td>\n",
       "      <td>98.0</td>\n",
       "      <td>1237.85</td>\n",
       "    </tr>\n",
       "    <tr>\n",
       "      <th>4</th>\n",
       "      <td>0013-EXCHZ</td>\n",
       "      <td>Yes</td>\n",
       "      <td>Female</td>\n",
       "      <td>1</td>\n",
       "      <td>Yes</td>\n",
       "      <td>No</td>\n",
       "      <td>3</td>\n",
       "      <td>Yes</td>\n",
       "      <td>No</td>\n",
       "      <td>Fiber optic</td>\n",
       "      <td>...</td>\n",
       "      <td>No</td>\n",
       "      <td>No</td>\n",
       "      <td>Yes</td>\n",
       "      <td>Yes</td>\n",
       "      <td>No</td>\n",
       "      <td>Month-to-month</td>\n",
       "      <td>Yes</td>\n",
       "      <td>Mailed check</td>\n",
       "      <td>83.9</td>\n",
       "      <td>267.4</td>\n",
       "    </tr>\n",
       "  </tbody>\n",
       "</table>\n",
       "<p>5 rows × 21 columns</p>\n",
       "</div>"
      ],
      "text/plain": [
       "   customerID Churn customer.gender  customer.SeniorCitizen customer.Partner  \\\n",
       "0  0002-ORFBO    No          Female                       0              Yes   \n",
       "1  0003-MKNFE    No            Male                       0               No   \n",
       "2  0004-TLHLJ   Yes            Male                       0               No   \n",
       "3  0011-IGKFF   Yes            Male                       1              Yes   \n",
       "4  0013-EXCHZ   Yes          Female                       1              Yes   \n",
       "\n",
       "  customer.Dependents  customer.tenure phone.PhoneService phone.MultipleLines  \\\n",
       "0                 Yes                9                Yes                  No   \n",
       "1                  No                9                Yes                 Yes   \n",
       "2                  No                4                Yes                  No   \n",
       "3                  No               13                Yes                  No   \n",
       "4                  No                3                Yes                  No   \n",
       "\n",
       "  internet.InternetService  ... internet.OnlineBackup  \\\n",
       "0                      DSL  ...                   Yes   \n",
       "1                      DSL  ...                    No   \n",
       "2              Fiber optic  ...                    No   \n",
       "3              Fiber optic  ...                   Yes   \n",
       "4              Fiber optic  ...                    No   \n",
       "\n",
       "  internet.DeviceProtection internet.TechSupport internet.StreamingTV  \\\n",
       "0                        No                  Yes                  Yes   \n",
       "1                        No                   No                   No   \n",
       "2                       Yes                   No                   No   \n",
       "3                       Yes                   No                  Yes   \n",
       "4                        No                  Yes                  Yes   \n",
       "\n",
       "  internet.StreamingMovies account.Contract account.PaperlessBilling  \\\n",
       "0                       No         One year                      Yes   \n",
       "1                      Yes   Month-to-month                       No   \n",
       "2                       No   Month-to-month                      Yes   \n",
       "3                      Yes   Month-to-month                      Yes   \n",
       "4                       No   Month-to-month                      Yes   \n",
       "\n",
       "  account.PaymentMethod account.Charges.Monthly  account.Charges.Total  \n",
       "0          Mailed check                    65.6                  593.3  \n",
       "1          Mailed check                    59.9                  542.4  \n",
       "2      Electronic check                    73.9                 280.85  \n",
       "3      Electronic check                    98.0                1237.85  \n",
       "4          Mailed check                    83.9                  267.4  \n",
       "\n",
       "[5 rows x 21 columns]"
      ]
     },
     "execution_count": 72,
     "metadata": {},
     "output_type": "execute_result"
    }
   ],
   "source": [
    "df.head()"
   ]
  },
  {
   "cell_type": "markdown",
   "metadata": {},
   "source": [
    "## 1 - EDA"
   ]
  },
  {
   "cell_type": "code",
   "execution_count": 73,
   "metadata": {},
   "outputs": [
    {
     "data": {
      "text/html": [
       "<div>\n",
       "<style scoped>\n",
       "    .dataframe tbody tr th:only-of-type {\n",
       "        vertical-align: middle;\n",
       "    }\n",
       "\n",
       "    .dataframe tbody tr th {\n",
       "        vertical-align: top;\n",
       "    }\n",
       "\n",
       "    .dataframe thead th {\n",
       "        text-align: right;\n",
       "    }\n",
       "</style>\n",
       "<table border=\"1\" class=\"dataframe\">\n",
       "  <thead>\n",
       "    <tr style=\"text-align: right;\">\n",
       "      <th></th>\n",
       "      <th>customer.SeniorCitizen</th>\n",
       "      <th>customer.tenure</th>\n",
       "      <th>account.Charges.Monthly</th>\n",
       "    </tr>\n",
       "  </thead>\n",
       "  <tbody>\n",
       "    <tr>\n",
       "      <th>count</th>\n",
       "      <td>7267.000000</td>\n",
       "      <td>7267.000000</td>\n",
       "      <td>7267.000000</td>\n",
       "    </tr>\n",
       "    <tr>\n",
       "      <th>mean</th>\n",
       "      <td>0.162653</td>\n",
       "      <td>32.346498</td>\n",
       "      <td>64.720098</td>\n",
       "    </tr>\n",
       "    <tr>\n",
       "      <th>std</th>\n",
       "      <td>0.369074</td>\n",
       "      <td>24.571773</td>\n",
       "      <td>30.129572</td>\n",
       "    </tr>\n",
       "    <tr>\n",
       "      <th>min</th>\n",
       "      <td>0.000000</td>\n",
       "      <td>0.000000</td>\n",
       "      <td>18.250000</td>\n",
       "    </tr>\n",
       "    <tr>\n",
       "      <th>25%</th>\n",
       "      <td>0.000000</td>\n",
       "      <td>9.000000</td>\n",
       "      <td>35.425000</td>\n",
       "    </tr>\n",
       "    <tr>\n",
       "      <th>50%</th>\n",
       "      <td>0.000000</td>\n",
       "      <td>29.000000</td>\n",
       "      <td>70.300000</td>\n",
       "    </tr>\n",
       "    <tr>\n",
       "      <th>75%</th>\n",
       "      <td>0.000000</td>\n",
       "      <td>55.000000</td>\n",
       "      <td>89.875000</td>\n",
       "    </tr>\n",
       "    <tr>\n",
       "      <th>max</th>\n",
       "      <td>1.000000</td>\n",
       "      <td>72.000000</td>\n",
       "      <td>118.750000</td>\n",
       "    </tr>\n",
       "  </tbody>\n",
       "</table>\n",
       "</div>"
      ],
      "text/plain": [
       "       customer.SeniorCitizen  customer.tenure  account.Charges.Monthly\n",
       "count             7267.000000      7267.000000              7267.000000\n",
       "mean                 0.162653        32.346498                64.720098\n",
       "std                  0.369074        24.571773                30.129572\n",
       "min                  0.000000         0.000000                18.250000\n",
       "25%                  0.000000         9.000000                35.425000\n",
       "50%                  0.000000        29.000000                70.300000\n",
       "75%                  0.000000        55.000000                89.875000\n",
       "max                  1.000000        72.000000               118.750000"
      ]
     },
     "execution_count": 73,
     "metadata": {},
     "output_type": "execute_result"
    }
   ],
   "source": [
    "df.describe()"
   ]
  },
  {
   "cell_type": "code",
   "execution_count": 74,
   "metadata": {},
   "outputs": [
    {
     "name": "stdout",
     "output_type": "stream",
     "text": [
      "<class 'pandas.core.frame.DataFrame'>\n",
      "RangeIndex: 7267 entries, 0 to 7266\n",
      "Data columns (total 21 columns):\n",
      " #   Column                     Non-Null Count  Dtype  \n",
      "---  ------                     --------------  -----  \n",
      " 0   customerID                 7267 non-null   object \n",
      " 1   Churn                      7043 non-null   object \n",
      " 2   customer.gender            7267 non-null   object \n",
      " 3   customer.SeniorCitizen     7267 non-null   int64  \n",
      " 4   customer.Partner           7267 non-null   object \n",
      " 5   customer.Dependents        7267 non-null   object \n",
      " 6   customer.tenure            7267 non-null   int64  \n",
      " 7   phone.PhoneService         7267 non-null   object \n",
      " 8   phone.MultipleLines        7267 non-null   object \n",
      " 9   internet.InternetService   7267 non-null   object \n",
      " 10  internet.OnlineSecurity    7267 non-null   object \n",
      " 11  internet.OnlineBackup      7267 non-null   object \n",
      " 12  internet.DeviceProtection  7267 non-null   object \n",
      " 13  internet.TechSupport       7267 non-null   object \n",
      " 14  internet.StreamingTV       7267 non-null   object \n",
      " 15  internet.StreamingMovies   7267 non-null   object \n",
      " 16  account.Contract           7267 non-null   object \n",
      " 17  account.PaperlessBilling   7267 non-null   object \n",
      " 18  account.PaymentMethod      7267 non-null   object \n",
      " 19  account.Charges.Monthly    7267 non-null   float64\n",
      " 20  account.Charges.Total      7267 non-null   object \n",
      "dtypes: float64(1), int64(2), object(18)\n",
      "memory usage: 1.2+ MB\n"
     ]
    }
   ],
   "source": [
    "df.info()"
   ]
  },
  {
   "cell_type": "code",
   "execution_count": 75,
   "metadata": {},
   "outputs": [
    {
     "data": {
      "text/plain": [
       "Index(['customerID', 'Churn', 'customer.gender', 'customer.SeniorCitizen',\n",
       "       'customer.Partner', 'customer.Dependents', 'customer.tenure',\n",
       "       'phone.PhoneService', 'phone.MultipleLines', 'internet.InternetService',\n",
       "       'internet.OnlineSecurity', 'internet.OnlineBackup',\n",
       "       'internet.DeviceProtection', 'internet.TechSupport',\n",
       "       'internet.StreamingTV', 'internet.StreamingMovies', 'account.Contract',\n",
       "       'account.PaperlessBilling', 'account.PaymentMethod',\n",
       "       'account.Charges.Monthly', 'account.Charges.Total'],\n",
       "      dtype='object')"
      ]
     },
     "execution_count": 75,
     "metadata": {},
     "output_type": "execute_result"
    }
   ],
   "source": [
    "colunas = df.columns\n",
    "colunas"
   ]
  },
  {
   "cell_type": "code",
   "execution_count": 76,
   "metadata": {},
   "outputs": [
    {
     "data": {
      "text/plain": [
       "(7267, 21)"
      ]
     },
     "execution_count": 76,
     "metadata": {},
     "output_type": "execute_result"
    }
   ],
   "source": [
    "df.shape"
   ]
  },
  {
   "cell_type": "code",
   "execution_count": 77,
   "metadata": {},
   "outputs": [
    {
     "data": {
      "text/plain": [
       "customerID                     0\n",
       "Churn                        224\n",
       "customer.gender                0\n",
       "customer.SeniorCitizen         0\n",
       "customer.Partner               0\n",
       "customer.Dependents            0\n",
       "customer.tenure                0\n",
       "phone.PhoneService             0\n",
       "phone.MultipleLines            0\n",
       "internet.InternetService       0\n",
       "internet.OnlineSecurity        0\n",
       "internet.OnlineBackup          0\n",
       "internet.DeviceProtection      0\n",
       "internet.TechSupport           0\n",
       "internet.StreamingTV           0\n",
       "internet.StreamingMovies       0\n",
       "account.Contract               0\n",
       "account.PaperlessBilling       0\n",
       "account.PaymentMethod          0\n",
       "account.Charges.Monthly        0\n",
       "account.Charges.Total          0\n",
       "dtype: int64"
      ]
     },
     "execution_count": 77,
     "metadata": {},
     "output_type": "execute_result"
    }
   ],
   "source": [
    "df.isnull().sum()"
   ]
  },
  {
   "cell_type": "code",
   "execution_count": 78,
   "metadata": {},
   "outputs": [],
   "source": [
    "#retirando as linhas que possuem valores nulos na variável target\n",
    "\n",
    "df = df.dropna()"
   ]
  },
  {
   "cell_type": "code",
   "execution_count": 79,
   "metadata": {},
   "outputs": [
    {
     "data": {
      "text/plain": [
       "(7043, 21)"
      ]
     },
     "execution_count": 79,
     "metadata": {},
     "output_type": "execute_result"
    }
   ],
   "source": [
    "df.shape"
   ]
  },
  {
   "cell_type": "markdown",
   "metadata": {},
   "source": [
    "Variáveis que precisam ser entendidas e quais são seus valores"
   ]
  },
  {
   "cell_type": "code",
   "execution_count": 80,
   "metadata": {},
   "outputs": [
    {
     "data": {
      "text/plain": [
       "array(['Mailed check', 'Electronic check', 'Credit card (automatic)',\n",
       "       'Bank transfer (automatic)'], dtype=object)"
      ]
     },
     "execution_count": 80,
     "metadata": {},
     "output_type": "execute_result"
    }
   ],
   "source": [
    "df[\"account.PaymentMethod\"].unique()"
   ]
  },
  {
   "cell_type": "code",
   "execution_count": 81,
   "metadata": {},
   "outputs": [
    {
     "data": {
      "text/plain": [
       "array(['One year', 'Month-to-month', 'Two year'], dtype=object)"
      ]
     },
     "execution_count": 81,
     "metadata": {},
     "output_type": "execute_result"
    }
   ],
   "source": [
    "df[\"account.Contract\"].unique()"
   ]
  },
  {
   "cell_type": "code",
   "execution_count": 82,
   "metadata": {},
   "outputs": [],
   "source": [
    "colunas_categoricas = [x for x in df.columns if df[x].dtypes == 'object' and x!=\"customerID\"]\n",
    "colunas_numericas = [x for x in df.columns if df[x].dtypes == 'int64' or df[x].dtypes==\"float64\" ]\n"
   ]
  },
  {
   "cell_type": "code",
   "execution_count": 83,
   "metadata": {},
   "outputs": [
    {
     "name": "stdout",
     "output_type": "stream",
     "text": [
      "Churn: ['No' 'Yes']\n",
      "customer.gender: ['Female' 'Male']\n",
      "customer.Partner: ['Yes' 'No']\n",
      "customer.Dependents: ['Yes' 'No']\n",
      "phone.PhoneService: ['Yes' 'No']\n",
      "phone.MultipleLines: ['No' 'Yes' 'No phone service']\n",
      "internet.InternetService: ['DSL' 'Fiber optic' 'No']\n",
      "internet.OnlineSecurity: ['No' 'Yes' 'No internet service']\n",
      "internet.OnlineBackup: ['Yes' 'No' 'No internet service']\n",
      "internet.DeviceProtection: ['No' 'Yes' 'No internet service']\n",
      "internet.TechSupport: ['Yes' 'No' 'No internet service']\n",
      "internet.StreamingTV: ['Yes' 'No' 'No internet service']\n",
      "internet.StreamingMovies: ['No' 'Yes' 'No internet service']\n",
      "account.Contract: ['One year' 'Month-to-month' 'Two year']\n",
      "account.PaperlessBilling: ['Yes' 'No']\n",
      "account.PaymentMethod: ['Mailed check' 'Electronic check' 'Credit card (automatic)'\n",
      " 'Bank transfer (automatic)']\n",
      "account.Charges.Total: ['593.3' '542.4' '280.85' ... '742.9' '4627.65' '3707.6']\n"
     ]
    }
   ],
   "source": [
    "# Encontrando os valores unicos de cada coluna\n",
    "for valor in colunas_categoricas:\n",
    "    print(f'{valor}: {df[valor].unique()}')"
   ]
  },
  {
   "cell_type": "code",
   "execution_count": null,
   "metadata": {},
   "outputs": [],
   "source": []
  }
 ],
 "metadata": {
  "kernelspec": {
   "display_name": "DSvenv",
   "language": "python",
   "name": "python3"
  },
  "language_info": {
   "codemirror_mode": {
    "name": "ipython",
    "version": 3
   },
   "file_extension": ".py",
   "mimetype": "text/x-python",
   "name": "python",
   "nbconvert_exporter": "python",
   "pygments_lexer": "ipython3",
   "version": "3.11.2"
  },
  "orig_nbformat": 4
 },
 "nbformat": 4,
 "nbformat_minor": 2
}
